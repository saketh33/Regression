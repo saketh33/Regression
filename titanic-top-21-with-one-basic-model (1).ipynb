{
 "cells": [
  {
   "cell_type": "code",
   "execution_count": 1,
   "id": "pretty-confidence",
   "metadata": {
    "_cell_guid": "b1076dfc-b9ad-4769-8c92-a6c4dae69d19",
    "_uuid": "8f2839f25d086af736a60e9eeb907d3b93b6e0e5",
    "execution": {
     "iopub.execute_input": "2021-05-31T09:11:53.153635Z",
     "iopub.status.busy": "2021-05-31T09:11:53.151835Z",
     "iopub.status.idle": "2021-05-31T09:11:54.196175Z",
     "shell.execute_reply": "2021-05-31T09:11:54.197276Z",
     "shell.execute_reply.started": "2021-05-26T12:03:53.107056Z"
    },
    "papermill": {
     "duration": 1.071417,
     "end_time": "2021-05-31T09:11:54.197696",
     "exception": false,
     "start_time": "2021-05-31T09:11:53.126279",
     "status": "completed"
    },
    "tags": []
   },
   "outputs": [],
   "source": [
    "import numpy as np \n",
    "import pandas as pd\n",
    "import matplotlib.pyplot as plt\n",
    "import seaborn as sns\n",
    "import warnings\n",
    "warnings.filterwarnings(\"ignore\")\n",
    "train=pd.read_csv(\"../input/titanic/train.csv\")\n",
    "test=pd.read_csv(\"../input/titanic/test.csv\")"
   ]
  },
  {
   "cell_type": "markdown",
   "id": "thorough-prisoner",
   "metadata": {
    "papermill": {
     "duration": 0.019283,
     "end_time": "2021-05-31T09:11:54.242479",
     "exception": false,
     "start_time": "2021-05-31T09:11:54.223196",
     "status": "completed"
    },
    "tags": []
   },
   "source": [
    "# Train Data"
   ]
  },
  {
   "cell_type": "code",
   "execution_count": 2,
   "id": "developed-following",
   "metadata": {
    "execution": {
     "iopub.execute_input": "2021-05-31T09:11:54.286198Z",
     "iopub.status.busy": "2021-05-31T09:11:54.285233Z",
     "iopub.status.idle": "2021-05-31T09:11:54.304571Z",
     "shell.execute_reply": "2021-05-31T09:11:54.305116Z",
     "shell.execute_reply.started": "2021-05-26T12:03:53.125243Z"
    },
    "papermill": {
     "duration": 0.043133,
     "end_time": "2021-05-31T09:11:54.305283",
     "exception": false,
     "start_time": "2021-05-31T09:11:54.262150",
     "status": "completed"
    },
    "tags": []
   },
   "outputs": [
    {
     "data": {
      "text/plain": [
       "PassengerId      0\n",
       "Survived         0\n",
       "Pclass           0\n",
       "Name             0\n",
       "Sex              0\n",
       "Age            177\n",
       "SibSp            0\n",
       "Parch            0\n",
       "Ticket           0\n",
       "Fare             0\n",
       "Cabin          687\n",
       "Embarked         2\n",
       "dtype: int64"
      ]
     },
     "execution_count": 2,
     "metadata": {},
     "output_type": "execute_result"
    }
   ],
   "source": [
    "#do the basic exploration things and find the number of null values\n",
    "#train.describe()\n",
    "#train.info()\n",
    "#train.isnull().any()\n",
    "train.isnull().sum()"
   ]
  },
  {
   "cell_type": "code",
   "execution_count": 3,
   "id": "packed-constitutional",
   "metadata": {
    "execution": {
     "iopub.execute_input": "2021-05-31T09:11:54.350191Z",
     "iopub.status.busy": "2021-05-31T09:11:54.349200Z",
     "iopub.status.idle": "2021-05-31T09:11:54.358492Z",
     "shell.execute_reply": "2021-05-31T09:11:54.359057Z",
     "shell.execute_reply.started": "2021-05-26T12:03:53.137934Z"
    },
    "papermill": {
     "duration": 0.032793,
     "end_time": "2021-05-31T09:11:54.359240",
     "exception": false,
     "start_time": "2021-05-31T09:11:54.326447",
     "status": "completed"
    },
    "tags": []
   },
   "outputs": [],
   "source": [
    "#Dropping the columns which we dont need and that dont effect much\n",
    "train.drop(columns=[\"PassengerId\",\"Name\",\"Ticket\",\"Cabin\"],axis=1,inplace=True)"
   ]
  },
  {
   "cell_type": "code",
   "execution_count": 4,
   "id": "toxic-particle",
   "metadata": {
    "execution": {
     "iopub.execute_input": "2021-05-31T09:11:54.403845Z",
     "iopub.status.busy": "2021-05-31T09:11:54.402774Z",
     "iopub.status.idle": "2021-05-31T09:11:54.618317Z",
     "shell.execute_reply": "2021-05-31T09:11:54.617792Z",
     "shell.execute_reply.started": "2021-05-26T12:03:53.147406Z"
    },
    "papermill": {
     "duration": 0.238928,
     "end_time": "2021-05-31T09:11:54.618463",
     "exception": false,
     "start_time": "2021-05-31T09:11:54.379535",
     "status": "completed"
    },
    "tags": []
   },
   "outputs": [
    {
     "data": {
      "text/plain": [
       "<AxesSubplot:>"
      ]
     },
     "execution_count": 4,
     "metadata": {},
     "output_type": "execute_result"
    },
    {
     "data": {
      "image/png": "[encoded data removed]",
      "text/plain": [
       "<Figure size 360x360 with 1 Axes>"
      ]
     },
     "metadata": {
      "needs_background": "light"
     },
     "output_type": "display_data"
    }
   ],
   "source": [
    "#plotting null values\n",
    "plt.figure(figsize=(5,5))\n",
    "sns.heatmap(train.isnull(),yticklabels=False,cbar=False)"
   ]
  },
  {
   "cell_type": "code",
   "execution_count": 5,
   "id": "legal-prior",
   "metadata": {
    "execution": {
     "iopub.execute_input": "2021-05-31T09:11:54.669282Z",
     "iopub.status.busy": "2021-05-31T09:11:54.668325Z",
     "iopub.status.idle": "2021-05-31T09:11:54.691328Z",
     "shell.execute_reply": "2021-05-31T09:11:54.691816Z",
     "shell.execute_reply.started": "2021-05-26T12:03:53.344181Z"
    },
    "papermill": {
     "duration": 0.05254,
     "end_time": "2021-05-31T09:11:54.692021",
     "exception": false,
     "start_time": "2021-05-31T09:11:54.639481",
     "status": "completed"
    },
    "tags": []
   },
   "outputs": [],
   "source": [
    "#dropping only the rows with null values in embarked column, can also use the below methods\n",
    "#train[train['Embarked'].isnull()].index.tolist()\n",
    "#train = train[train['Embarked'].notna()]\n",
    "\n",
    "train.dropna(subset=['Embarked'],inplace=True)\n",
    "train.Age.fillna(train.Age.mean(),inplace=True)"
   ]
  },
  {
   "cell_type": "code",
   "execution_count": 6,
   "id": "noted-second",
   "metadata": {
    "execution": {
     "iopub.execute_input": "2021-05-31T09:11:54.743978Z",
     "iopub.status.busy": "2021-05-31T09:11:54.743326Z",
     "iopub.status.idle": "2021-05-31T09:11:54.748723Z",
     "shell.execute_reply": "2021-05-31T09:11:54.748081Z",
     "shell.execute_reply.started": "2021-05-26T12:03:53.354992Z"
    },
    "papermill": {
     "duration": 0.035291,
     "end_time": "2021-05-31T09:11:54.748861",
     "exception": false,
     "start_time": "2021-05-31T09:11:54.713570",
     "status": "completed"
    },
    "tags": []
   },
   "outputs": [
    {
     "data": {
      "text/plain": [
       "Survived    0\n",
       "Pclass      0\n",
       "Sex         0\n",
       "Age         0\n",
       "SibSp       0\n",
       "Parch       0\n",
       "Fare        0\n",
       "Embarked    0\n",
       "dtype: int64"
      ]
     },
     "execution_count": 6,
     "metadata": {},
     "output_type": "execute_result"
    }
   ],
   "source": [
    "train.isnull().sum()"
   ]
  },
  {
   "cell_type": "markdown",
   "id": "junior-probe",
   "metadata": {
    "papermill": {
     "duration": 0.021417,
     "end_time": "2021-05-31T09:11:54.792159",
     "exception": false,
     "start_time": "2021-05-31T09:11:54.770742",
     "status": "completed"
    },
    "tags": []
   },
   "source": [
    "# EDA"
   ]
  },
  {
   "cell_type": "code",
   "execution_count": 7,
   "id": "freelance-grammar",
   "metadata": {
    "execution": {
     "iopub.execute_input": "2021-05-31T09:11:54.841714Z",
     "iopub.status.busy": "2021-05-31T09:11:54.840918Z",
     "iopub.status.idle": "2021-05-31T09:11:56.118315Z",
     "shell.execute_reply": "2021-05-31T09:11:56.117533Z",
     "shell.execute_reply.started": "2021-05-26T12:03:53.370678Z"
    },
    "papermill": {
     "duration": 1.303547,
     "end_time": "2021-05-31T09:11:56.118499",
     "exception": false,
     "start_time": "2021-05-31T09:11:54.814952",
     "status": "completed"
    },
    "tags": []
   },
   "outputs": [
    {
     "data": {
      "image/png": "[encoded data removed]",
      "text/plain": [
       "<Figure size 720x720 with 6 Axes>"
      ]
     },
     "metadata": {
      "needs_background": "light"
     },
     "output_type": "display_data"
    }
   ],
   "source": [
    "train.hist(figsize=(10,10),bins = 29, color=\"#107009AA\")\n",
    "plt.title(\"Features Distribution\")\n",
    "plt.show()"
   ]
  },
  {
   "cell_type": "code",
   "execution_count": 8,
   "id": "continuing-ontario",
   "metadata": {
    "execution": {
     "iopub.execute_input": "2021-05-31T09:11:56.169281Z",
     "iopub.status.busy": "2021-05-31T09:11:56.168544Z",
     "iopub.status.idle": "2021-05-31T09:11:56.729351Z",
     "shell.execute_reply": "2021-05-31T09:11:56.728807Z",
     "shell.execute_reply.started": "2021-05-26T12:03:54.645137Z"
    },
    "papermill": {
     "duration": 0.586915,
     "end_time": "2021-05-31T09:11:56.729499",
     "exception": false,
     "start_time": "2021-05-31T09:11:56.142584",
     "status": "completed"
    },
    "tags": []
   },
   "outputs": [
    {
     "data": {
      "image/png": "[encoded data removed]",
      "text/plain": [
       "<Figure size 432x216 with 2 Axes>"
      ]
     },
     "metadata": {
      "needs_background": "light"
     },
     "output_type": "display_data"
    }
   ],
   "source": [
    "g = sns.FacetGrid(train, col='Survived')\n",
    "g = g.map(sns.distplot, \"Age\")"
   ]
  },
  {
   "cell_type": "markdown",
   "id": "fatal-milan",
   "metadata": {
    "papermill": {
     "duration": 0.023919,
     "end_time": "2021-05-31T09:11:56.777668",
     "exception": false,
     "start_time": "2021-05-31T09:11:56.753749",
     "status": "completed"
    },
    "tags": []
   },
   "source": [
    "# feature analysis"
   ]
  },
  {
   "cell_type": "code",
   "execution_count": 9,
   "id": "pressed-father",
   "metadata": {
    "execution": {
     "iopub.execute_input": "2021-05-31T09:11:56.828343Z",
     "iopub.status.busy": "2021-05-31T09:11:56.827682Z",
     "iopub.status.idle": "2021-05-31T09:11:56.837679Z",
     "shell.execute_reply": "2021-05-31T09:11:56.836747Z",
     "shell.execute_reply.started": "2021-05-26T12:03:55.176891Z"
    },
    "papermill": {
     "duration": 0.036137,
     "end_time": "2021-05-31T09:11:56.837888",
     "exception": false,
     "start_time": "2021-05-31T09:11:56.801751",
     "status": "completed"
    },
    "tags": []
   },
   "outputs": [
    {
     "name": "stdout",
     "output_type": "stream",
     "text": [
      "['male' 'female']\n",
      "['S' 'C' 'Q']\n"
     ]
    }
   ],
   "source": [
    "print(train.Sex.unique())\n",
    "print(train.Embarked.unique())"
   ]
  },
  {
   "cell_type": "code",
   "execution_count": 10,
   "id": "headed-feeling",
   "metadata": {
    "execution": {
     "iopub.execute_input": "2021-05-31T09:11:56.889137Z",
     "iopub.status.busy": "2021-05-31T09:11:56.888454Z",
     "iopub.status.idle": "2021-05-31T09:11:56.895969Z",
     "shell.execute_reply": "2021-05-31T09:11:56.896535Z",
     "shell.execute_reply.started": "2021-05-26T12:03:55.184181Z"
    },
    "papermill": {
     "duration": 0.034461,
     "end_time": "2021-05-31T09:11:56.896731",
     "exception": false,
     "start_time": "2021-05-31T09:11:56.862270",
     "status": "completed"
    },
    "tags": []
   },
   "outputs": [],
   "source": [
    "train['Sex']=train['Sex'].map({'male':0,'female':1})\n",
    "train['Embarked']=train['Embarked'].map({'S':0,'C':1,'Q':2})"
   ]
  },
  {
   "cell_type": "code",
   "execution_count": 11,
   "id": "local-bidder",
   "metadata": {
    "execution": {
     "iopub.execute_input": "2021-05-31T09:11:56.947516Z",
     "iopub.status.busy": "2021-05-31T09:11:56.946853Z",
     "iopub.status.idle": "2021-05-31T09:11:56.957947Z",
     "shell.execute_reply": "2021-05-31T09:11:56.957157Z",
     "shell.execute_reply.started": "2021-05-26T12:03:55.203856Z"
    },
    "papermill": {
     "duration": 0.037771,
     "end_time": "2021-05-31T09:11:56.958158",
     "exception": false,
     "start_time": "2021-05-31T09:11:56.920387",
     "status": "completed"
    },
    "tags": []
   },
   "outputs": [
    {
     "name": "stdout",
     "output_type": "stream",
     "text": [
      "32.09668087739032\n",
      "49.669545099689564\n",
      "[[0.78696114 0.82520863 0.73534203 ... 0.47432585 0.50023975 0.56968402]\n",
      " [1.27071078 1.57221121 1.35991138 ... 0.47432585 0.78894661 1.00313924]\n",
      " [1.27071078 0.82520863 1.35991138 ... 0.47432585 0.48664993 0.56968402]\n",
      " ...\n",
      " [0.78696114 0.82520863 1.35991138 ... 2.00611934 0.17408416 0.56968402]\n",
      " [1.27071078 1.57221121 0.73534203 ... 0.47432585 0.0422126  1.00313924]\n",
      " [0.78696114 0.82520863 0.73534203 ... 0.47432585 0.49017322 2.5759625 ]]\n"
     ]
    }
   ],
   "source": [
    "#oulier analysis using zscore\n",
    "from scipy import stats\n",
    "import numpy as np\n",
    "a=np.mean(train.Fare)\n",
    "print(a)\n",
    "b=np.std(train.Fare)\n",
    "print(b)\n",
    "\n",
    "z = np.abs(stats.zscore(train))\n",
    "print(z)\n",
    "threshold = 3"
   ]
  },
  {
   "cell_type": "code",
   "execution_count": 12,
   "id": "treated-psychology",
   "metadata": {
    "execution": {
     "iopub.execute_input": "2021-05-31T09:11:57.015782Z",
     "iopub.status.busy": "2021-05-31T09:11:57.015104Z",
     "iopub.status.idle": "2021-05-31T09:11:57.017582Z",
     "shell.execute_reply": "2021-05-31T09:11:57.018167Z",
     "shell.execute_reply.started": "2021-05-26T12:03:55.223903Z"
    },
    "papermill": {
     "duration": 0.034835,
     "end_time": "2021-05-31T09:11:57.018348",
     "exception": false,
     "start_time": "2021-05-31T09:11:56.983513",
     "status": "completed"
    },
    "tags": []
   },
   "outputs": [],
   "source": [
    "train = train[(z < 3).all(axis=1)]"
   ]
  },
  {
   "cell_type": "code",
   "execution_count": 13,
   "id": "herbal-protest",
   "metadata": {
    "execution": {
     "iopub.execute_input": "2021-05-31T09:11:57.077854Z",
     "iopub.status.busy": "2021-05-31T09:11:57.076877Z",
     "iopub.status.idle": "2021-05-31T09:11:57.085961Z",
     "shell.execute_reply": "2021-05-31T09:11:57.086568Z",
     "shell.execute_reply.started": "2021-05-26T12:03:55.241569Z"
    },
    "papermill": {
     "duration": 0.043305,
     "end_time": "2021-05-31T09:11:57.086755",
     "exception": false,
     "start_time": "2021-05-31T09:11:57.043450",
     "status": "completed"
    },
    "tags": []
   },
   "outputs": [],
   "source": [
    "#oulier analysis using inter quartile range IQR\n",
    "from collections import Counter\n",
    "def detect_outliers(df,n,features):\n",
    "    outlier_indices = []\n",
    "    for col in features:\n",
    "        # 1st quartile (25%)\n",
    "        Q1 = np.percentile(df[col], 25)\n",
    "        # 3rd quartile (75%)\n",
    "        Q3 = np.percentile(df[col],75)\n",
    "        # Interquartile range (IQR)\n",
    "        IQR = Q3 - Q1\n",
    "        outlier_step = 1.5 * IQR\n",
    "        outlier_list_col = df[(df[col] < Q1 - outlier_step) | (df[col] > Q3 + outlier_step )].index\n",
    "        outlier_indices.extend(outlier_list_col)\n",
    "        \n",
    "    # select observations containing more than 2 outliers\n",
    "    outlier_indices = Counter(outlier_indices)        \n",
    "    multiple_outliers = list( k for k, v in outlier_indices.items() if v > n )\n",
    "    return multiple_outliers   \n",
    "Outliers_to_drop = detect_outliers(train,2,[\"Age\",\"SibSp\",\"Parch\",\"Fare\"])"
   ]
  },
  {
   "cell_type": "code",
   "execution_count": 14,
   "id": "selected-taste",
   "metadata": {
    "execution": {
     "iopub.execute_input": "2021-05-31T09:11:57.140601Z",
     "iopub.status.busy": "2021-05-31T09:11:57.139896Z",
     "iopub.status.idle": "2021-05-31T09:11:57.144906Z",
     "shell.execute_reply": "2021-05-31T09:11:57.145522Z",
     "shell.execute_reply.started": "2021-05-26T12:03:55.262841Z"
    },
    "papermill": {
     "duration": 0.033351,
     "end_time": "2021-05-31T09:11:57.145696",
     "exception": false,
     "start_time": "2021-05-31T09:11:57.112345",
     "status": "completed"
    },
    "tags": []
   },
   "outputs": [],
   "source": [
    "train = train.drop(Outliers_to_drop, axis = 0).reset_index(drop=True)"
   ]
  },
  {
   "cell_type": "markdown",
   "id": "oriental-edmonton",
   "metadata": {
    "papermill": {
     "duration": 0.025493,
     "end_time": "2021-05-31T09:11:57.195169",
     "exception": false,
     "start_time": "2021-05-31T09:11:57.169676",
     "status": "completed"
    },
    "tags": []
   },
   "source": [
    "# Test data"
   ]
  },
  {
   "cell_type": "code",
   "execution_count": 15,
   "id": "technical-winner",
   "metadata": {
    "execution": {
     "iopub.execute_input": "2021-05-31T09:11:57.248501Z",
     "iopub.status.busy": "2021-05-31T09:11:57.247722Z",
     "iopub.status.idle": "2021-05-31T09:11:57.255004Z",
     "shell.execute_reply": "2021-05-31T09:11:57.255477Z",
     "shell.execute_reply.started": "2021-05-26T12:03:55.271162Z"
    },
    "papermill": {
     "duration": 0.036425,
     "end_time": "2021-05-31T09:11:57.255662",
     "exception": false,
     "start_time": "2021-05-31T09:11:57.219237",
     "status": "completed"
    },
    "tags": []
   },
   "outputs": [
    {
     "data": {
      "text/plain": [
       "PassengerId      0\n",
       "Pclass           0\n",
       "Name             0\n",
       "Sex              0\n",
       "Age             86\n",
       "SibSp            0\n",
       "Parch            0\n",
       "Ticket           0\n",
       "Fare             1\n",
       "Cabin          327\n",
       "Embarked         0\n",
       "dtype: int64"
      ]
     },
     "execution_count": 15,
     "metadata": {},
     "output_type": "execute_result"
    }
   ],
   "source": [
    "test.isnull().sum()"
   ]
  },
  {
   "cell_type": "code",
   "execution_count": 16,
   "id": "boxed-timothy",
   "metadata": {
    "execution": {
     "iopub.execute_input": "2021-05-31T09:11:57.308169Z",
     "iopub.status.busy": "2021-05-31T09:11:57.307424Z",
     "iopub.status.idle": "2021-05-31T09:11:57.313473Z",
     "shell.execute_reply": "2021-05-31T09:11:57.314080Z",
     "shell.execute_reply.started": "2021-05-26T12:03:55.289939Z"
    },
    "papermill": {
     "duration": 0.034484,
     "end_time": "2021-05-31T09:11:57.314308",
     "exception": false,
     "start_time": "2021-05-31T09:11:57.279824",
     "status": "completed"
    },
    "tags": []
   },
   "outputs": [],
   "source": [
    "test.drop(columns=[\"PassengerId\",\"Name\",\"Ticket\",\"Cabin\"],axis=1,inplace=True)"
   ]
  },
  {
   "cell_type": "code",
   "execution_count": 17,
   "id": "mineral-latex",
   "metadata": {
    "execution": {
     "iopub.execute_input": "2021-05-31T09:11:57.371978Z",
     "iopub.status.busy": "2021-05-31T09:11:57.371308Z",
     "iopub.status.idle": "2021-05-31T09:11:57.373753Z",
     "shell.execute_reply": "2021-05-31T09:11:57.374378Z",
     "shell.execute_reply.started": "2021-05-26T12:03:55.303895Z"
    },
    "papermill": {
     "duration": 0.035711,
     "end_time": "2021-05-31T09:11:57.374555",
     "exception": false,
     "start_time": "2021-05-31T09:11:57.338844",
     "status": "completed"
    },
    "tags": []
   },
   "outputs": [],
   "source": [
    "test['Sex']=test['Sex'].map({'male':0,'female':1})\n",
    "test['Embarked']=test['Embarked'].map({'S':0,'C':1,'Q':2})"
   ]
  },
  {
   "cell_type": "code",
   "execution_count": 18,
   "id": "protective-murray",
   "metadata": {
    "execution": {
     "iopub.execute_input": "2021-05-31T09:11:57.426131Z",
     "iopub.status.busy": "2021-05-31T09:11:57.425514Z",
     "iopub.status.idle": "2021-05-31T09:11:57.430925Z",
     "shell.execute_reply": "2021-05-31T09:11:57.431463Z",
     "shell.execute_reply.started": "2021-05-26T12:05:03.011449Z"
    },
    "papermill": {
     "duration": 0.032806,
     "end_time": "2021-05-31T09:11:57.431629",
     "exception": false,
     "start_time": "2021-05-31T09:11:57.398823",
     "status": "completed"
    },
    "tags": []
   },
   "outputs": [],
   "source": [
    "test.Fare.fillna(test.Fare.mean(),inplace=True)\n",
    "test.Age.fillna(train.Age.mean(),inplace=True)"
   ]
  },
  {
   "cell_type": "markdown",
   "id": "joint-secretariat",
   "metadata": {
    "papermill": {
     "duration": 0.023782,
     "end_time": "2021-05-31T09:11:57.480056",
     "exception": false,
     "start_time": "2021-05-31T09:11:57.456274",
     "status": "completed"
    },
    "tags": []
   },
   "source": [
    "# Split and Model"
   ]
  },
  {
   "cell_type": "code",
   "execution_count": 19,
   "id": "indian-tourist",
   "metadata": {
    "execution": {
     "iopub.execute_input": "2021-05-31T09:11:57.535416Z",
     "iopub.status.busy": "2021-05-31T09:11:57.534359Z",
     "iopub.status.idle": "2021-05-31T09:11:57.537613Z",
     "shell.execute_reply": "2021-05-31T09:11:57.536880Z",
     "shell.execute_reply.started": "2021-05-26T12:05:05.851413Z"
    },
    "papermill": {
     "duration": 0.03312,
     "end_time": "2021-05-31T09:11:57.537767",
     "exception": false,
     "start_time": "2021-05-31T09:11:57.504647",
     "status": "completed"
    },
    "tags": []
   },
   "outputs": [],
   "source": [
    "xtrain=train.iloc[:,1:]\n",
    "ytrain=train.iloc[:,0]\n",
    "xtest=test"
   ]
  },
  {
   "cell_type": "code",
   "execution_count": 20,
   "id": "uniform-replacement",
   "metadata": {
    "execution": {
     "iopub.execute_input": "2021-05-31T09:11:57.593633Z",
     "iopub.status.busy": "2021-05-31T09:11:57.592926Z",
     "iopub.status.idle": "2021-05-31T09:11:58.020169Z",
     "shell.execute_reply": "2021-05-31T09:11:58.021194Z",
     "shell.execute_reply.started": "2021-05-26T12:05:11.151279Z"
    },
    "papermill": {
     "duration": 0.458669,
     "end_time": "2021-05-31T09:11:58.021532",
     "exception": false,
     "start_time": "2021-05-31T09:11:57.562863",
     "status": "completed"
    },
    "tags": []
   },
   "outputs": [
    {
     "name": "stdout",
     "output_type": "stream",
     "text": [
      "[09:11:57] WARNING: ../src/learner.cc:1095: Starting in XGBoost 1.3.0, the default evaluation metric used with the objective 'binary:logistic' was changed from 'error' to 'logloss'. Explicitly set eval_metric if you'd like to restore the old behavior.\n"
     ]
    }
   ],
   "source": [
    "from xgboost import XGBClassifier\n",
    "\n",
    "xgb = XGBClassifier(booster = 'gbtree', gamma=5,learning_rate = 0.1, max_depth = 5, n_estimators = 100,colsample_bytree=1)\n",
    "xgb.fit(xtrain, ytrain)\n",
    "xgbpred=xgb.predict(xtest)"
   ]
  },
  {
   "cell_type": "code",
   "execution_count": 21,
   "id": "connected-karen",
   "metadata": {
    "execution": {
     "iopub.execute_input": "2021-05-31T09:11:58.081233Z",
     "iopub.status.busy": "2021-05-31T09:11:58.080331Z",
     "iopub.status.idle": "2021-05-31T09:11:58.094849Z",
     "shell.execute_reply": "2021-05-31T09:11:58.095462Z",
     "shell.execute_reply.started": "2021-05-26T12:06:05.598556Z"
    },
    "papermill": {
     "duration": 0.046249,
     "end_time": "2021-05-31T09:11:58.095649",
     "exception": false,
     "start_time": "2021-05-31T09:11:58.049400",
     "status": "completed"
    },
    "tags": []
   },
   "outputs": [],
   "source": [
    "prediction = pd.DataFrame(xgbpred)\n",
    "submission= pd.read_csv('../input/titanic/gender_submission.csv')\n",
    "submission['Survived'] = prediction\n",
    "submission.to_csv('xgbpred21%.csv', index = False)"
   ]
  }
 ],
 "metadata": {
  "kernelspec": {
   "display_name": "Python 3",
   "language": "python",
   "name": "python3"
  },
  "language_info": {
   "codemirror_mode": {
    "name": "ipython",
    "version": 3
   },
   "file_extension": ".py",
   "mimetype": "text/x-python",
   "name": "python",
   "nbconvert_exporter": "python",
   "pygments_lexer": "ipython3",
   "version": "3.7.10"
  },
  "papermill": {
   "default_parameters": {},
   "duration": 14.662787,
   "end_time": "2021-05-31T09:11:58.933145",
   "environment_variables": {},
   "exception": null,
   "input_path": "__notebook__.ipynb",
   "output_path": "__notebook__.ipynb",
   "parameters": {},
   "start_time": "2021-05-31T09:11:44.270358",
   "version": "2.3.3"
  }
 },
 "nbformat": 4,
 "nbformat_minor": 5
}
